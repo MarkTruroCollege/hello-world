{
  "nbformat": 4,
  "nbformat_minor": 0,
  "metadata": {
    "colab": {
      "name": "Untitled0.ipynb",
      "provenance": [],
      "authorship_tag": "ABX9TyNNTU4EZE+YhYvcbmmP7RFc",
      "include_colab_link": true
    },
    "kernelspec": {
      "name": "python3",
      "display_name": "Python 3"
    }
  },
  "cells": [
    {
      "cell_type": "markdown",
      "metadata": {
        "id": "view-in-github",
        "colab_type": "text"
      },
      "source": [
        "<a href=\"https://colab.research.google.com/github/MarkTruroCollege/hello-world/blob/master/TestColabNotebook.ipynb\" target=\"_parent\"><img src=\"https://colab.research.google.com/assets/colab-badge.svg\" alt=\"Open In Colab\"/></a>"
      ]
    },
    {
      "cell_type": "markdown",
      "metadata": {
        "id": "ZF2Z1B0FmJK4",
        "colab_type": "text"
      },
      "source": [
        "# This bit is just text"
      ]
    },
    {
      "cell_type": "code",
      "metadata": {
        "id": "NlgKBRd_ligW",
        "colab_type": "code",
        "colab": {}
      },
      "source": [
        "print('hello')"
      ],
      "execution_count": 0,
      "outputs": []
    },
    {
      "cell_type": "code",
      "metadata": {
        "id": "COLQtdI1mSW0",
        "colab_type": "code",
        "colab": {
          "base_uri": "https://localhost:8080/",
          "height": 34
        },
        "outputId": "289855af-ce0a-48ce-8e50-0ef48c1f303f"
      },
      "source": [
        "first_name = \"Ted\"\n",
        "print(f\"Hello {first_name}, it is good to see you today.\")"
      ],
      "execution_count": 6,
      "outputs": [
        {
          "output_type": "stream",
          "text": [
            "Hello {first_name}, it is good to see you today.\n"
          ],
          "name": "stdout"
        }
      ]
    }
  ]
}